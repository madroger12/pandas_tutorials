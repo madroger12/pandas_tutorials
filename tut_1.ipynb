{
 "cells": [
  {
   "cell_type": "code",
   "execution_count": 1,
   "metadata": {},
   "outputs": [],
   "source": [
    "# TIMESERIES IS A SET OF DATA POINTS INDEXED IN TME ORDER"
   ]
  },
  {
   "cell_type": "code",
   "execution_count": 4,
   "metadata": {},
   "outputs": [
    {
     "data": {
      "text/html": [
       "<div>\n",
       "<style scoped>\n",
       "    .dataframe tbody tr th:only-of-type {\n",
       "        vertical-align: middle;\n",
       "    }\n",
       "\n",
       "    .dataframe tbody tr th {\n",
       "        vertical-align: top;\n",
       "    }\n",
       "\n",
       "    .dataframe thead th {\n",
       "        text-align: right;\n",
       "    }\n",
       "</style>\n",
       "<table border=\"1\" class=\"dataframe\">\n",
       "  <thead>\n",
       "    <tr style=\"text-align: right;\">\n",
       "      <th></th>\n",
       "      <th>date</th>\n",
       "      <th>close</th>\n",
       "      <th>volume</th>\n",
       "      <th>open</th>\n",
       "      <th>high</th>\n",
       "      <th>low</th>\n",
       "    </tr>\n",
       "  </thead>\n",
       "  <tbody>\n",
       "    <tr>\n",
       "      <th>0</th>\n",
       "      <td>16:00</td>\n",
       "      <td>212.46</td>\n",
       "      <td>22,267,819</td>\n",
       "      <td>213.30</td>\n",
       "      <td>214.4350</td>\n",
       "      <td>210.7500</td>\n",
       "    </tr>\n",
       "    <tr>\n",
       "      <th>1</th>\n",
       "      <td>2019/08/22</td>\n",
       "      <td>212.46</td>\n",
       "      <td>22267820.0000</td>\n",
       "      <td>213.19</td>\n",
       "      <td>214.4350</td>\n",
       "      <td>210.7500</td>\n",
       "    </tr>\n",
       "    <tr>\n",
       "      <th>2</th>\n",
       "      <td>2019/08/21</td>\n",
       "      <td>212.64</td>\n",
       "      <td>21564750.0000</td>\n",
       "      <td>212.99</td>\n",
       "      <td>213.6500</td>\n",
       "      <td>211.6032</td>\n",
       "    </tr>\n",
       "    <tr>\n",
       "      <th>3</th>\n",
       "      <td>2019/08/20</td>\n",
       "      <td>210.36</td>\n",
       "      <td>26919530.0000</td>\n",
       "      <td>210.88</td>\n",
       "      <td>213.3500</td>\n",
       "      <td>210.3200</td>\n",
       "    </tr>\n",
       "    <tr>\n",
       "      <th>4</th>\n",
       "      <td>2019/08/19</td>\n",
       "      <td>210.35</td>\n",
       "      <td>24431920.0000</td>\n",
       "      <td>210.62</td>\n",
       "      <td>212.7307</td>\n",
       "      <td>210.0250</td>\n",
       "    </tr>\n",
       "    <tr>\n",
       "      <th>5</th>\n",
       "      <td>2019/08/16</td>\n",
       "      <td>206.50</td>\n",
       "      <td>28813620.0000</td>\n",
       "      <td>204.28</td>\n",
       "      <td>207.1600</td>\n",
       "      <td>203.8400</td>\n",
       "    </tr>\n",
       "    <tr>\n",
       "      <th>6</th>\n",
       "      <td>2019/08/15</td>\n",
       "      <td>201.74</td>\n",
       "      <td>27883360.0000</td>\n",
       "      <td>203.46</td>\n",
       "      <td>205.1400</td>\n",
       "      <td>199.6700</td>\n",
       "    </tr>\n",
       "  </tbody>\n",
       "</table>\n",
       "</div>"
      ],
      "text/plain": [
       "         date   close         volume    open      high       low\n",
       "0       16:00  212.46     22,267,819  213.30  214.4350  210.7500\n",
       "1  2019/08/22  212.46  22267820.0000  213.19  214.4350  210.7500\n",
       "2  2019/08/21  212.64  21564750.0000  212.99  213.6500  211.6032\n",
       "3  2019/08/20  210.36  26919530.0000  210.88  213.3500  210.3200\n",
       "4  2019/08/19  210.35  24431920.0000  210.62  212.7307  210.0250\n",
       "5  2019/08/16  206.50  28813620.0000  204.28  207.1600  203.8400\n",
       "6  2019/08/15  201.74  27883360.0000  203.46  205.1400  199.6700"
      ]
     },
     "execution_count": 4,
     "metadata": {},
     "output_type": "execute_result"
    }
   ],
   "source": [
    "import pandas as pd\n",
    "df = pd.read_csv('appl.csv')\n",
    "df.head(7) "
   ]
  },
  {
   "cell_type": "code",
   "execution_count": null,
   "metadata": {},
   "outputs": [],
   "source": [
    "# TOPICS TO COVER IN THIS:\n",
    "\n",
    "## DATETIMEINDEX\n",
    "## RESAMPLING"
   ]
  },
  {
   "cell_type": "code",
   "execution_count": 8,
   "metadata": {},
   "outputs": [
    {
     "data": {
      "text/plain": [
       "str"
      ]
     },
     "execution_count": 8,
     "metadata": {},
     "output_type": "execute_result"
    }
   ],
   "source": [
    "type(df.date[0])"
   ]
  },
  {
   "cell_type": "code",
   "execution_count": 9,
   "metadata": {},
   "outputs": [
    {
     "data": {
      "text/html": [
       "<div>\n",
       "<style scoped>\n",
       "    .dataframe tbody tr th:only-of-type {\n",
       "        vertical-align: middle;\n",
       "    }\n",
       "\n",
       "    .dataframe tbody tr th {\n",
       "        vertical-align: top;\n",
       "    }\n",
       "\n",
       "    .dataframe thead th {\n",
       "        text-align: right;\n",
       "    }\n",
       "</style>\n",
       "<table border=\"1\" class=\"dataframe\">\n",
       "  <thead>\n",
       "    <tr style=\"text-align: right;\">\n",
       "      <th></th>\n",
       "      <th>date</th>\n",
       "      <th>close</th>\n",
       "      <th>volume</th>\n",
       "      <th>open</th>\n",
       "      <th>high</th>\n",
       "      <th>low</th>\n",
       "    </tr>\n",
       "  </thead>\n",
       "  <tbody>\n",
       "    <tr>\n",
       "      <th>0</th>\n",
       "      <td>2019-08-23 16:00:00</td>\n",
       "      <td>212.46</td>\n",
       "      <td>22,267,819</td>\n",
       "      <td>213.30</td>\n",
       "      <td>214.4350</td>\n",
       "      <td>210.7500</td>\n",
       "    </tr>\n",
       "    <tr>\n",
       "      <th>1</th>\n",
       "      <td>2019-08-22 00:00:00</td>\n",
       "      <td>212.46</td>\n",
       "      <td>22267820.0000</td>\n",
       "      <td>213.19</td>\n",
       "      <td>214.4350</td>\n",
       "      <td>210.7500</td>\n",
       "    </tr>\n",
       "    <tr>\n",
       "      <th>2</th>\n",
       "      <td>2019-08-21 00:00:00</td>\n",
       "      <td>212.64</td>\n",
       "      <td>21564750.0000</td>\n",
       "      <td>212.99</td>\n",
       "      <td>213.6500</td>\n",
       "      <td>211.6032</td>\n",
       "    </tr>\n",
       "    <tr>\n",
       "      <th>3</th>\n",
       "      <td>2019-08-20 00:00:00</td>\n",
       "      <td>210.36</td>\n",
       "      <td>26919530.0000</td>\n",
       "      <td>210.88</td>\n",
       "      <td>213.3500</td>\n",
       "      <td>210.3200</td>\n",
       "    </tr>\n",
       "    <tr>\n",
       "      <th>4</th>\n",
       "      <td>2019-08-19 00:00:00</td>\n",
       "      <td>210.35</td>\n",
       "      <td>24431920.0000</td>\n",
       "      <td>210.62</td>\n",
       "      <td>212.7307</td>\n",
       "      <td>210.0250</td>\n",
       "    </tr>\n",
       "    <tr>\n",
       "      <th>5</th>\n",
       "      <td>2019-08-16 00:00:00</td>\n",
       "      <td>206.50</td>\n",
       "      <td>28813620.0000</td>\n",
       "      <td>204.28</td>\n",
       "      <td>207.1600</td>\n",
       "      <td>203.8400</td>\n",
       "    </tr>\n",
       "    <tr>\n",
       "      <th>6</th>\n",
       "      <td>2019-08-15 00:00:00</td>\n",
       "      <td>201.74</td>\n",
       "      <td>27883360.0000</td>\n",
       "      <td>203.46</td>\n",
       "      <td>205.1400</td>\n",
       "      <td>199.6700</td>\n",
       "    </tr>\n",
       "  </tbody>\n",
       "</table>\n",
       "</div>"
      ],
      "text/plain": [
       "                 date   close         volume    open      high       low\n",
       "0 2019-08-23 16:00:00  212.46     22,267,819  213.30  214.4350  210.7500\n",
       "1 2019-08-22 00:00:00  212.46  22267820.0000  213.19  214.4350  210.7500\n",
       "2 2019-08-21 00:00:00  212.64  21564750.0000  212.99  213.6500  211.6032\n",
       "3 2019-08-20 00:00:00  210.36  26919530.0000  210.88  213.3500  210.3200\n",
       "4 2019-08-19 00:00:00  210.35  24431920.0000  210.62  212.7307  210.0250\n",
       "5 2019-08-16 00:00:00  206.50  28813620.0000  204.28  207.1600  203.8400\n",
       "6 2019-08-15 00:00:00  201.74  27883360.0000  203.46  205.1400  199.6700"
      ]
     },
     "execution_count": 9,
     "metadata": {},
     "output_type": "execute_result"
    }
   ],
   "source": [
    "import pandas as pd\n",
    "df = pd.read_csv('appl.csv',parse_dates=[\"date\"])\n",
    "df.head(7) "
   ]
  },
  {
   "cell_type": "code",
   "execution_count": 11,
   "metadata": {},
   "outputs": [
    {
     "data": {
      "text/plain": [
       "pandas._libs.tslibs.timestamps.Timestamp"
      ]
     },
     "execution_count": 11,
     "metadata": {},
     "output_type": "execute_result"
    }
   ],
   "source": [
    "type(df.date[0])"
   ]
  },
  {
   "cell_type": "code",
   "execution_count": 13,
   "metadata": {},
   "outputs": [
    {
     "data": {
      "text/html": [
       "<div>\n",
       "<style scoped>\n",
       "    .dataframe tbody tr th:only-of-type {\n",
       "        vertical-align: middle;\n",
       "    }\n",
       "\n",
       "    .dataframe tbody tr th {\n",
       "        vertical-align: top;\n",
       "    }\n",
       "\n",
       "    .dataframe thead th {\n",
       "        text-align: right;\n",
       "    }\n",
       "</style>\n",
       "<table border=\"1\" class=\"dataframe\">\n",
       "  <thead>\n",
       "    <tr style=\"text-align: right;\">\n",
       "      <th></th>\n",
       "      <th>close</th>\n",
       "      <th>volume</th>\n",
       "      <th>open</th>\n",
       "      <th>high</th>\n",
       "      <th>low</th>\n",
       "    </tr>\n",
       "    <tr>\n",
       "      <th>date</th>\n",
       "      <th></th>\n",
       "      <th></th>\n",
       "      <th></th>\n",
       "      <th></th>\n",
       "      <th></th>\n",
       "    </tr>\n",
       "  </thead>\n",
       "  <tbody>\n",
       "    <tr>\n",
       "      <th>2019-08-23 16:00:00</th>\n",
       "      <td>212.46</td>\n",
       "      <td>22,267,819</td>\n",
       "      <td>213.30</td>\n",
       "      <td>214.4350</td>\n",
       "      <td>210.7500</td>\n",
       "    </tr>\n",
       "    <tr>\n",
       "      <th>2019-08-22 00:00:00</th>\n",
       "      <td>212.46</td>\n",
       "      <td>22267820.0000</td>\n",
       "      <td>213.19</td>\n",
       "      <td>214.4350</td>\n",
       "      <td>210.7500</td>\n",
       "    </tr>\n",
       "    <tr>\n",
       "      <th>2019-08-21 00:00:00</th>\n",
       "      <td>212.64</td>\n",
       "      <td>21564750.0000</td>\n",
       "      <td>212.99</td>\n",
       "      <td>213.6500</td>\n",
       "      <td>211.6032</td>\n",
       "    </tr>\n",
       "    <tr>\n",
       "      <th>2019-08-20 00:00:00</th>\n",
       "      <td>210.36</td>\n",
       "      <td>26919530.0000</td>\n",
       "      <td>210.88</td>\n",
       "      <td>213.3500</td>\n",
       "      <td>210.3200</td>\n",
       "    </tr>\n",
       "    <tr>\n",
       "      <th>2019-08-19 00:00:00</th>\n",
       "      <td>210.35</td>\n",
       "      <td>24431920.0000</td>\n",
       "      <td>210.62</td>\n",
       "      <td>212.7307</td>\n",
       "      <td>210.0250</td>\n",
       "    </tr>\n",
       "    <tr>\n",
       "      <th>2019-08-16 00:00:00</th>\n",
       "      <td>206.50</td>\n",
       "      <td>28813620.0000</td>\n",
       "      <td>204.28</td>\n",
       "      <td>207.1600</td>\n",
       "      <td>203.8400</td>\n",
       "    </tr>\n",
       "    <tr>\n",
       "      <th>2019-08-15 00:00:00</th>\n",
       "      <td>201.74</td>\n",
       "      <td>27883360.0000</td>\n",
       "      <td>203.46</td>\n",
       "      <td>205.1400</td>\n",
       "      <td>199.6700</td>\n",
       "    </tr>\n",
       "  </tbody>\n",
       "</table>\n",
       "</div>"
      ],
      "text/plain": [
       "                      close         volume    open      high       low\n",
       "date                                                                  \n",
       "2019-08-23 16:00:00  212.46     22,267,819  213.30  214.4350  210.7500\n",
       "2019-08-22 00:00:00  212.46  22267820.0000  213.19  214.4350  210.7500\n",
       "2019-08-21 00:00:00  212.64  21564750.0000  212.99  213.6500  211.6032\n",
       "2019-08-20 00:00:00  210.36  26919530.0000  210.88  213.3500  210.3200\n",
       "2019-08-19 00:00:00  210.35  24431920.0000  210.62  212.7307  210.0250\n",
       "2019-08-16 00:00:00  206.50  28813620.0000  204.28  207.1600  203.8400\n",
       "2019-08-15 00:00:00  201.74  27883360.0000  203.46  205.1400  199.6700"
      ]
     },
     "execution_count": 13,
     "metadata": {},
     "output_type": "execute_result"
    }
   ],
   "source": [
    "import pandas as pd\n",
    "df = pd.read_csv('appl.csv',parse_dates=[\"date\"], index_col=\"date\")\n",
    "df.head(7) "
   ]
  },
  {
   "cell_type": "code",
   "execution_count": 14,
   "metadata": {},
   "outputs": [
    {
     "data": {
      "text/plain": [
       "DatetimeIndex(['2019-08-23 16:00:00', '2019-08-22 00:00:00',\n",
       "               '2019-08-21 00:00:00', '2019-08-20 00:00:00',\n",
       "               '2019-08-19 00:00:00', '2019-08-16 00:00:00',\n",
       "               '2019-08-15 00:00:00', '2019-08-14 00:00:00',\n",
       "               '2019-08-13 00:00:00', '2019-08-12 00:00:00',\n",
       "               ...\n",
       "               '2018-09-05 00:00:00', '2018-09-04 00:00:00',\n",
       "               '2018-08-31 00:00:00', '2018-08-30 00:00:00',\n",
       "               '2018-08-29 00:00:00', '2018-08-28 00:00:00',\n",
       "               '2018-08-27 00:00:00', '2018-08-24 00:00:00',\n",
       "               '2018-08-23 00:00:00', '2018-08-22 00:00:00'],\n",
       "              dtype='datetime64[ns]', name='date', length=253, freq=None)"
      ]
     },
     "execution_count": 14,
     "metadata": {},
     "output_type": "execute_result"
    }
   ],
   "source": [
    "df.index"
   ]
  },
  {
   "cell_type": "code",
   "execution_count": 15,
   "metadata": {},
   "outputs": [
    {
     "data": {
      "text/html": [
       "<div>\n",
       "<style scoped>\n",
       "    .dataframe tbody tr th:only-of-type {\n",
       "        vertical-align: middle;\n",
       "    }\n",
       "\n",
       "    .dataframe tbody tr th {\n",
       "        vertical-align: top;\n",
       "    }\n",
       "\n",
       "    .dataframe thead th {\n",
       "        text-align: right;\n",
       "    }\n",
       "</style>\n",
       "<table border=\"1\" class=\"dataframe\">\n",
       "  <thead>\n",
       "    <tr style=\"text-align: right;\">\n",
       "      <th></th>\n",
       "      <th>close</th>\n",
       "      <th>volume</th>\n",
       "      <th>open</th>\n",
       "      <th>high</th>\n",
       "      <th>low</th>\n",
       "    </tr>\n",
       "    <tr>\n",
       "      <th>date</th>\n",
       "      <th></th>\n",
       "      <th></th>\n",
       "      <th></th>\n",
       "      <th></th>\n",
       "      <th></th>\n",
       "    </tr>\n",
       "  </thead>\n",
       "  <tbody>\n",
       "    <tr>\n",
       "      <th>2019-02-28</th>\n",
       "      <td>173.15</td>\n",
       "      <td>27953810.0000</td>\n",
       "      <td>174.32</td>\n",
       "      <td>174.9100</td>\n",
       "      <td>172.9200</td>\n",
       "    </tr>\n",
       "    <tr>\n",
       "      <th>2019-02-27</th>\n",
       "      <td>174.87</td>\n",
       "      <td>27817640.0000</td>\n",
       "      <td>173.21</td>\n",
       "      <td>175.0000</td>\n",
       "      <td>172.7300</td>\n",
       "    </tr>\n",
       "    <tr>\n",
       "      <th>2019-02-26</th>\n",
       "      <td>174.33</td>\n",
       "      <td>16991610.0000</td>\n",
       "      <td>173.71</td>\n",
       "      <td>175.3000</td>\n",
       "      <td>173.1732</td>\n",
       "    </tr>\n",
       "    <tr>\n",
       "      <th>2019-02-25</th>\n",
       "      <td>174.23</td>\n",
       "      <td>21846400.0000</td>\n",
       "      <td>174.16</td>\n",
       "      <td>175.8700</td>\n",
       "      <td>173.9500</td>\n",
       "    </tr>\n",
       "    <tr>\n",
       "      <th>2019-02-22</th>\n",
       "      <td>172.97</td>\n",
       "      <td>18890250.0000</td>\n",
       "      <td>171.58</td>\n",
       "      <td>173.0000</td>\n",
       "      <td>171.3800</td>\n",
       "    </tr>\n",
       "    <tr>\n",
       "      <th>2019-02-21</th>\n",
       "      <td>171.06</td>\n",
       "      <td>17154540.0000</td>\n",
       "      <td>171.80</td>\n",
       "      <td>172.3700</td>\n",
       "      <td>170.3000</td>\n",
       "    </tr>\n",
       "    <tr>\n",
       "      <th>2019-02-20</th>\n",
       "      <td>172.03</td>\n",
       "      <td>25323890.0000</td>\n",
       "      <td>171.19</td>\n",
       "      <td>173.3200</td>\n",
       "      <td>170.9900</td>\n",
       "    </tr>\n",
       "    <tr>\n",
       "      <th>2019-02-19</th>\n",
       "      <td>170.93</td>\n",
       "      <td>18958570.0000</td>\n",
       "      <td>169.71</td>\n",
       "      <td>171.4400</td>\n",
       "      <td>169.4900</td>\n",
       "    </tr>\n",
       "    <tr>\n",
       "      <th>2019-02-15</th>\n",
       "      <td>170.42</td>\n",
       "      <td>24603320.0000</td>\n",
       "      <td>171.25</td>\n",
       "      <td>171.7000</td>\n",
       "      <td>169.7500</td>\n",
       "    </tr>\n",
       "    <tr>\n",
       "      <th>2019-02-14</th>\n",
       "      <td>170.80</td>\n",
       "      <td>21785180.0000</td>\n",
       "      <td>169.71</td>\n",
       "      <td>171.2615</td>\n",
       "      <td>169.3800</td>\n",
       "    </tr>\n",
       "    <tr>\n",
       "      <th>2019-02-13</th>\n",
       "      <td>170.18</td>\n",
       "      <td>22389660.0000</td>\n",
       "      <td>171.39</td>\n",
       "      <td>172.4800</td>\n",
       "      <td>169.9200</td>\n",
       "    </tr>\n",
       "    <tr>\n",
       "      <th>2019-02-12</th>\n",
       "      <td>170.89</td>\n",
       "      <td>22224400.0000</td>\n",
       "      <td>170.10</td>\n",
       "      <td>171.0000</td>\n",
       "      <td>169.7000</td>\n",
       "    </tr>\n",
       "    <tr>\n",
       "      <th>2019-02-11</th>\n",
       "      <td>169.43</td>\n",
       "      <td>20940020.0000</td>\n",
       "      <td>171.05</td>\n",
       "      <td>171.2100</td>\n",
       "      <td>169.2500</td>\n",
       "    </tr>\n",
       "    <tr>\n",
       "      <th>2019-02-08</th>\n",
       "      <td>170.41</td>\n",
       "      <td>23793830.0000</td>\n",
       "      <td>168.99</td>\n",
       "      <td>170.6600</td>\n",
       "      <td>168.4200</td>\n",
       "    </tr>\n",
       "    <tr>\n",
       "      <th>2019-02-07</th>\n",
       "      <td>170.94</td>\n",
       "      <td>31644240.0000</td>\n",
       "      <td>172.40</td>\n",
       "      <td>173.9400</td>\n",
       "      <td>170.3400</td>\n",
       "    </tr>\n",
       "    <tr>\n",
       "      <th>2019-02-06</th>\n",
       "      <td>174.24</td>\n",
       "      <td>28204640.0000</td>\n",
       "      <td>174.65</td>\n",
       "      <td>175.5700</td>\n",
       "      <td>172.8531</td>\n",
       "    </tr>\n",
       "    <tr>\n",
       "      <th>2019-02-05</th>\n",
       "      <td>174.18</td>\n",
       "      <td>36054570.0000</td>\n",
       "      <td>172.86</td>\n",
       "      <td>175.0800</td>\n",
       "      <td>172.3501</td>\n",
       "    </tr>\n",
       "    <tr>\n",
       "      <th>2019-02-04</th>\n",
       "      <td>171.25</td>\n",
       "      <td>31384720.0000</td>\n",
       "      <td>167.41</td>\n",
       "      <td>171.6550</td>\n",
       "      <td>167.2800</td>\n",
       "    </tr>\n",
       "    <tr>\n",
       "      <th>2019-02-01</th>\n",
       "      <td>166.52</td>\n",
       "      <td>32644590.0000</td>\n",
       "      <td>166.96</td>\n",
       "      <td>168.9800</td>\n",
       "      <td>165.9300</td>\n",
       "    </tr>\n",
       "  </tbody>\n",
       "</table>\n",
       "</div>"
      ],
      "text/plain": [
       "             close         volume    open      high       low\n",
       "date                                                         \n",
       "2019-02-28  173.15  27953810.0000  174.32  174.9100  172.9200\n",
       "2019-02-27  174.87  27817640.0000  173.21  175.0000  172.7300\n",
       "2019-02-26  174.33  16991610.0000  173.71  175.3000  173.1732\n",
       "2019-02-25  174.23  21846400.0000  174.16  175.8700  173.9500\n",
       "2019-02-22  172.97  18890250.0000  171.58  173.0000  171.3800\n",
       "2019-02-21  171.06  17154540.0000  171.80  172.3700  170.3000\n",
       "2019-02-20  172.03  25323890.0000  171.19  173.3200  170.9900\n",
       "2019-02-19  170.93  18958570.0000  169.71  171.4400  169.4900\n",
       "2019-02-15  170.42  24603320.0000  171.25  171.7000  169.7500\n",
       "2019-02-14  170.80  21785180.0000  169.71  171.2615  169.3800\n",
       "2019-02-13  170.18  22389660.0000  171.39  172.4800  169.9200\n",
       "2019-02-12  170.89  22224400.0000  170.10  171.0000  169.7000\n",
       "2019-02-11  169.43  20940020.0000  171.05  171.2100  169.2500\n",
       "2019-02-08  170.41  23793830.0000  168.99  170.6600  168.4200\n",
       "2019-02-07  170.94  31644240.0000  172.40  173.9400  170.3400\n",
       "2019-02-06  174.24  28204640.0000  174.65  175.5700  172.8531\n",
       "2019-02-05  174.18  36054570.0000  172.86  175.0800  172.3501\n",
       "2019-02-04  171.25  31384720.0000  167.41  171.6550  167.2800\n",
       "2019-02-01  166.52  32644590.0000  166.96  168.9800  165.9300"
      ]
     },
     "execution_count": 15,
     "metadata": {},
     "output_type": "execute_result"
    }
   ],
   "source": [
    "df[\"2019-02\"]"
   ]
  },
  {
   "cell_type": "code",
   "execution_count": 17,
   "metadata": {},
   "outputs": [
    {
     "data": {
      "text/plain": [
       "date\n",
       "2019-02-28    173.15\n",
       "2019-02-27    174.87\n",
       "2019-02-26    174.33\n",
       "2019-02-25    174.23\n",
       "2019-02-22    172.97\n",
       "2019-02-21    171.06\n",
       "2019-02-20    172.03\n",
       "2019-02-19    170.93\n",
       "2019-02-15    170.42\n",
       "2019-02-14    170.80\n",
       "2019-02-13    170.18\n",
       "2019-02-12    170.89\n",
       "2019-02-11    169.43\n",
       "2019-02-08    170.41\n",
       "2019-02-07    170.94\n",
       "2019-02-06    174.24\n",
       "2019-02-05    174.18\n",
       "2019-02-04    171.25\n",
       "2019-02-01    166.52\n",
       "Name: close, dtype: float64"
      ]
     },
     "execution_count": 17,
     "metadata": {},
     "output_type": "execute_result"
    }
   ],
   "source": [
    " df[\"2019-02\"].close "
   ]
  },
  {
   "cell_type": "code",
   "execution_count": 18,
   "metadata": {},
   "outputs": [
    {
     "data": {
      "text/plain": [
       "171.7278947368421"
      ]
     },
     "execution_count": 18,
     "metadata": {},
     "output_type": "execute_result"
    }
   ],
   "source": [
    " df[\"2019-02\"].close.mean()"
   ]
  },
  {
   "cell_type": "code",
   "execution_count": 21,
   "metadata": {},
   "outputs": [
    {
     "data": {
      "text/html": [
       "<div>\n",
       "<style scoped>\n",
       "    .dataframe tbody tr th:only-of-type {\n",
       "        vertical-align: middle;\n",
       "    }\n",
       "\n",
       "    .dataframe tbody tr th {\n",
       "        vertical-align: top;\n",
       "    }\n",
       "\n",
       "    .dataframe thead th {\n",
       "        text-align: right;\n",
       "    }\n",
       "</style>\n",
       "<table border=\"1\" class=\"dataframe\">\n",
       "  <thead>\n",
       "    <tr style=\"text-align: right;\">\n",
       "      <th></th>\n",
       "      <th>close</th>\n",
       "      <th>volume</th>\n",
       "      <th>open</th>\n",
       "      <th>high</th>\n",
       "      <th>low</th>\n",
       "    </tr>\n",
       "    <tr>\n",
       "      <th>date</th>\n",
       "      <th></th>\n",
       "      <th></th>\n",
       "      <th></th>\n",
       "      <th></th>\n",
       "      <th></th>\n",
       "    </tr>\n",
       "  </thead>\n",
       "  <tbody>\n",
       "  </tbody>\n",
       "</table>\n",
       "</div>"
      ],
      "text/plain": [
       "Empty DataFrame\n",
       "Columns: [close, volume, open, high, low]\n",
       "Index: []"
      ]
     },
     "execution_count": 21,
     "metadata": {},
     "output_type": "execute_result"
    }
   ],
   "source": [
    "df[\"2019-04-1\":\"2019-04-15\"]"
   ]
  },
  {
   "cell_type": "code",
   "execution_count": 22,
   "metadata": {},
   "outputs": [],
   "source": [
    "## RESAMPLING"
   ]
  },
  {
   "cell_type": "code",
   "execution_count": 23,
   "metadata": {},
   "outputs": [
    {
     "data": {
      "text/plain": [
       "date\n",
       "2018-08-31    219.997500\n",
       "2018-09-30    222.073684\n",
       "2018-10-31    220.845652\n",
       "2018-11-30    191.235714\n",
       "2018-12-31    164.266316\n",
       "2019-01-31    154.166190\n",
       "2019-02-28    171.727895\n",
       "2019-03-31    183.293810\n",
       "2019-04-30    200.516190\n",
       "2019-05-31    191.273636\n",
       "2019-06-30    192.969000\n",
       "2019-07-31    205.216364\n",
       "2019-08-31    204.997647\n",
       "Freq: M, Name: close, dtype: float64"
      ]
     },
     "execution_count": 23,
     "metadata": {},
     "output_type": "execute_result"
    }
   ],
   "source": [
    "df.close.resample('M').mean()"
   ]
  },
  {
   "cell_type": "code",
   "execution_count": 24,
   "metadata": {},
   "outputs": [
    {
     "data": {
      "text/plain": [
       "<matplotlib.axes._subplots.AxesSubplot at 0x7f6044e517f0>"
      ]
     },
     "execution_count": 24,
     "metadata": {},
     "output_type": "execute_result"
    },
    {
     "data": {
      "image/png": "[encoded data removed]",
      "text/plain": [
       "<Figure size 432x288 with 1 Axes>"
      ]
     },
     "metadata": {
      "needs_background": "light"
     },
     "output_type": "display_data"
    }
   ],
   "source": [
    "%matplotlib inline\n",
    "df.close.resample('M').mean().plot()"
   ]
  },
  {
   "cell_type": "code",
   "execution_count": 25,
   "metadata": {},
   "outputs": [
    {
     "data": {
      "text/plain": [
       "<matplotlib.axes._subplots.AxesSubplot at 0x7f60428e6320>"
      ]
     },
     "execution_count": 25,
     "metadata": {},
     "output_type": "execute_result"
    },
    {
     "data": {
      "image/png": "[encoded data removed]",
      "text/plain": [
       "<Figure size 432x288 with 1 Axes>"
      ]
     },
     "metadata": {
      "needs_background": "light"
     },
     "output_type": "display_data"
    }
   ],
   "source": [
    "df.close.resample('W').mean().plot()"
   ]
  },
  {
   "cell_type": "code",
   "execution_count": 27,
   "metadata": {},
   "outputs": [
    {
     "data": {
      "text/plain": [
       "<matplotlib.axes._subplots.AxesSubplot at 0x7f604281b9b0>"
      ]
     },
     "execution_count": 27,
     "metadata": {},
     "output_type": "execute_result"
    },
    {
     "data": {
      "image/png": "[encoded data removed]",
      "text/plain": [
       "<Figure size 432x288 with 1 Axes>"
      ]
     },
     "metadata": {
      "needs_background": "light"
     },
     "output_type": "display_data"
    }
   ],
   "source": [
    "df.close.resample('M').mean().plot(kind=\"bar\")"
   ]
  },
  {
   "cell_type": "code",
   "execution_count": 29,
   "metadata": {},
   "outputs": [
    {
     "data": {
      "text/plain": [
       "<matplotlib.axes._subplots.AxesSubplot at 0x7f604279e668>"
      ]
     },
     "execution_count": 29,
     "metadata": {},
     "output_type": "execute_result"
    },
    {
     "data": {
      "image/png": "[encoded data removed]",
      "text/plain": [
       "<Figure size 432x288 with 1 Axes>"
      ]
     },
     "metadata": {
      "needs_background": "light"
     },
     "output_type": "display_data"
    }
   ],
   "source": [
    "df.close.plot()"
   ]
  },
  {
   "cell_type": "code",
   "execution_count": null,
   "metadata": {},
   "outputs": [],
   "source": []
  }
 ],
 "metadata": {
  "kernelspec": {
   "display_name": "Python 3",
   "language": "python",
   "name": "python3"
  },
  "language_info": {
   "codemirror_mode": {
    "name": "ipython",
    "version": 3
   },
   "file_extension": ".py",
   "mimetype": "text/x-python",
   "name": "python",
   "nbconvert_exporter": "python",
   "pygments_lexer": "ipython3",
   "version": "3.7.3"
  }
 },
 "nbformat": 4,
 "nbformat_minor": 2
}
